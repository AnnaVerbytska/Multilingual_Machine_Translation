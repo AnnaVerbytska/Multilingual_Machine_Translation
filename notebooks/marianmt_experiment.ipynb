{
 "cells": [
  {
   "cell_type": "code",
   "execution_count": 1,
   "id": "20b6562e",
   "metadata": {},
   "outputs": [
    {
     "name": "stderr",
     "output_type": "stream",
     "text": [
      "/Users/anna_verbytska/Documents/Multilingual_Machine_Translation/.venv/lib/python3.12/site-packages/tqdm/auto.py:21: TqdmWarning: IProgress not found. Please update jupyter and ipywidgets. See https://ipywidgets.readthedocs.io/en/stable/user_install.html\n",
      "  from .autonotebook import tqdm as notebook_tqdm\n"
     ]
    }
   ],
   "source": [
    "from transformers import MarianMTModel, MarianTokenizer\n",
    "from newspaper import Article # pip3 install newspaper3k # pip install newspaper3k lxml_html_clean\n",
    "from nltk.translate.bleu_score import sentence_bleu, SmoothingFunction"
   ]
  },
  {
   "cell_type": "code",
   "execution_count": 2,
   "id": "d4c8c2f3",
   "metadata": {},
   "outputs": [],
   "source": [
    "# Allowed models \n",
    "MODEL_MAP = {\n",
    "    (\"en\", \"de\"): \"Helsinki-NLP/opus-mt-en-de\",\n",
    "    (\"de\", \"en\"): \"Helsinki-NLP/opus-mt-de-en\",\n",
    "    (\"en\", \"es\"): \"Helsinki-NLP/opus-mt-en-es\",\n",
    "    (\"es\", \"en\"): \"Helsinki-NLP/opus-mt-es-en\",\n",
    "    (\"en\", \"ru\"): \"Helsinki-NLP/opus-mt-en-ru\",\n",
    "    (\"ru\", \"en\"): \"Helsinki-NLP/opus-mt-ru-en\",\n",
    "    (\"en\", \"uk\"): \"Helsinki-NLP/opus-mt-en-uk\",\n",
    "    (\"uk\", \"en\"): \"Helsinki-NLP/opus-mt-uk-en\",\n",
    "}\n",
    "\n",
    "def translate(text, src_lang, tgt_lang):\n",
    "    \"\"\"\n",
    "    Translate text from src_lang to tgt_lang using MarianMT.\n",
    "    Supported languages: en, de, es, ru, uk\n",
    "    \"\"\"\n",
    "    model_name = MODEL_MAP.get((src_lang, tgt_lang))\n",
    "    if model_name is None:\n",
    "        raise ValueError(f\"No MarianMT model available for {src_lang} → {tgt_lang}\")\n",
    "    \n",
    "    tokenizer = MarianTokenizer.from_pretrained(model_name)\n",
    "    model = MarianMTModel.from_pretrained(model_name)\n",
    "\n",
    "    batch = tokenizer([text], return_tensors=\"pt\", padding=True)\n",
    "    translated = model.generate(**batch)\n",
    "    tgt_text = tokenizer.batch_decode(translated, skip_special_tokens=True)[0]\n",
    "    return tgt_text\n"
   ]
  },
  {
   "cell_type": "code",
   "execution_count": 3,
   "id": "5a519f87",
   "metadata": {},
   "outputs": [
    {
     "name": "stdout",
     "output_type": "stream",
     "text": [
      "EN → DE: Das ist ein Testsatz.\n",
      "DE → EN: This is a test set.\n",
      "EN → ES: Esta es una frase de prueba.\n",
      "ES → EN: This is a test phrase.\n",
      "EN → RU: Это испытательное предложение.\n",
      "RU → EN: It's a test offer.\n",
      "EN → UK: Це тестове речення.\n",
      "UK → EN: This is a test sentence.\n"
     ]
    }
   ],
   "source": [
    "texts = {\n",
    "    \"en\": \"This is a test sentence.\",\n",
    "    \"de\": \"Dies ist ein Testsatz.\",\n",
    "    \"es\": \"Esta es una frase de prueba.\",\n",
    "    \"uk\": \"Це тестове речення.\",\n",
    "    \"ru\": \"Это тестовое предложение.\"\n",
    "}\n",
    "\n",
    "print(\"EN → DE:\", translate(texts[\"en\"], \"en\", \"de\"))\n",
    "print(\"DE → EN:\", translate(texts[\"de\"], \"de\", \"en\"))\n",
    "print(\"EN → ES:\", translate(texts[\"en\"], \"en\", \"es\"))\n",
    "print(\"ES → EN:\", translate(texts[\"es\"], \"es\", \"en\"))\n",
    "print(\"EN → RU:\", translate(texts[\"en\"], \"en\", \"ru\"))\n",
    "print(\"RU → EN:\", translate(texts[\"ru\"], \"ru\", \"en\"))\n",
    "print(\"EN → UK:\", translate(texts[\"en\"], \"en\", \"uk\"))\n",
    "print(\"UK → EN:\", translate(texts[\"uk\"], \"uk\", \"en\"))\n"
   ]
  },
  {
   "cell_type": "code",
   "execution_count": 4,
   "id": "f82c18c3",
   "metadata": {},
   "outputs": [
    {
     "name": "stdout",
     "output_type": "stream",
     "text": [
      "EN → DE evaluation\n",
      "System outputs: ['Das ist ein Testsatz.', 'Das Buch steht auf dem Tisch.']\n",
      "References: ['Dies ist ein Testsatz.', 'Das Buch liegt auf dem Tisch.']\n",
      "BLEU: 55.84\n",
      "chrF: 75.56\n"
     ]
    }
   ],
   "source": [
    "import sacrebleu\n",
    "\n",
    "# Test sentences (parallel references)\n",
    "test_data = [\n",
    "    {\"en\": \"This is a test sentence.\", \n",
    "     \"de\": \"Dies ist ein Testsatz.\", \n",
    "     \"es\": \"Esta es una frase de prueba.\", \n",
    "     \"ru\": \"Это тестовое предложение.\", \n",
    "     \"uk\": \"Це тестове речення.\"},\n",
    "    \n",
    "    {\"en\": \"The book is on the table.\", \n",
    "     \"de\": \"Das Buch liegt auf dem Tisch.\", \n",
    "     \"es\": \"El libro está sobre la mesa.\", \n",
    "     \"ru\": \"Книга лежит на столе.\", \n",
    "     \"uk\": \"Книга лежить на столі.\"}\n",
    "]\n",
    "\n",
    "# Evaluate EN → DE translations\n",
    "system_outputs = []\n",
    "references = []\n",
    "\n",
    "for sample in test_data:\n",
    "    src = sample[\"en\"]\n",
    "    ref = sample[\"de\"]\n",
    "    hyp = translate(src, \"en\", \"de\")\n",
    "    system_outputs.append(hyp)\n",
    "    references.append(ref)\n",
    "\n",
    "# BLEU evaluation\n",
    "bleu = sacrebleu.corpus_bleu(system_outputs, [references])\n",
    "chrf = sacrebleu.corpus_chrf(system_outputs, [references])\n",
    "\n",
    "print(\"EN → DE evaluation\")\n",
    "print(\"System outputs:\", system_outputs)\n",
    "print(\"References:\", references)\n",
    "print(f\"BLEU: {bleu.score:.2f}\")\n",
    "print(f\"chrF: {chrf.score:.2f}\")\n"
   ]
  },
  {
   "cell_type": "markdown",
   "id": "47613285",
   "metadata": {},
   "source": [
    "### Use-Case of Translating Headlines ES>DE from El Pais"
   ]
  },
  {
   "cell_type": "markdown",
   "id": "8f856702",
   "metadata": {},
   "source": [
    "Extraction by keywords in headlines"
   ]
  },
  {
   "cell_type": "code",
   "execution_count": 5,
   "id": "7976ffeb",
   "metadata": {},
   "outputs": [
    {
     "name": "stdout",
     "output_type": "stream",
     "text": [
      "Exported 28 unique democracy-related Spanish headlines from multiple sites\n"
     ]
    }
   ],
   "source": [
    "# EXTRACT HEADLINES AND EXPORT\n",
    "from newspaper import build\n",
    "import pandas as pd\n",
    "\n",
    "# --- Step 1: Define Spanish news site ---\n",
    "news_sites = [\n",
    "    \"https://elpais.com\",           # Spain\n",
    "    \"https://www.abc.es\",           # Spain\n",
    "    \"https://www.lavanguardia.com\"  # Spain\n",
    "]\n",
    "\n",
    "# Keywords for democracy-related articles\n",
    "keywords = [\"democracia\", \"elección\", \"voto\", \"gobierno\", \"política\", \"partido\", \"PP\", \"elecciones\"]\n",
    "\n",
    "# --- Step 2: Function to extract and filter headlines ---\n",
    "def get_headlines(url, lang=\"es\", max_articles=20, keywords=[]):\n",
    "    paper = build(url, language=lang, memoize_articles=False)\n",
    "    headlines = []\n",
    "    for article in paper.articles[:max_articles*20]:  # fetch extra to account for duplicates/failures\n",
    "        try:\n",
    "            article.download()\n",
    "            article.parse()\n",
    "            title = article.title\n",
    "            # Check for uniqueness and keyword match\n",
    "            if title and title not in headlines and any(k.lower() in title.lower() for k in keywords):\n",
    "                headlines.append(title)\n",
    "            if len(headlines) >= max_articles:\n",
    "                break\n",
    "        except:\n",
    "            continue\n",
    "    return headlines\n",
    "\n",
    "# --- Step 3: Loop over multiple sites and aggregate headlines ---\n",
    "all_headlines = []\n",
    "for site in news_sites:\n",
    "    headlines = get_headlines(site, lang=\"es\", max_articles=10, keywords=keywords)\n",
    "    all_headlines.extend(headlines)\n",
    "\n",
    "# Remove duplicates\n",
    "all_headlines = list(dict.fromkeys(all_headlines))\n",
    "\n",
    "# --- Step 4: Create a DataFrame ---\n",
    "df = pd.DataFrame({\n",
    "    \"language\": [\"es\"] * len(all_headlines),\n",
    "    \"headline\": all_headlines\n",
    "})\n",
    "\n",
    "# --- Step 5: Export to CSV ---\n",
    "df.to_csv(\"../data/headlines_democracy.csv\", index=False, encoding=\"utf-8-sig\")\n",
    "print(f\"Exported {len(all_headlines)} unique democracy-related Spanish headlines from multiple sites\")"
   ]
  },
  {
   "cell_type": "code",
   "execution_count": 6,
   "id": "5e963021",
   "metadata": {},
   "outputs": [
    {
     "data": {
      "text/html": [
       "<div>\n",
       "<style scoped>\n",
       "    .dataframe tbody tr th:only-of-type {\n",
       "        vertical-align: middle;\n",
       "    }\n",
       "\n",
       "    .dataframe tbody tr th {\n",
       "        vertical-align: top;\n",
       "    }\n",
       "\n",
       "    .dataframe thead th {\n",
       "        text-align: right;\n",
       "    }\n",
       "</style>\n",
       "<table border=\"1\" class=\"dataframe\">\n",
       "  <thead>\n",
       "    <tr style=\"text-align: right;\">\n",
       "      <th></th>\n",
       "      <th>language</th>\n",
       "      <th>headline</th>\n",
       "    </tr>\n",
       "  </thead>\n",
       "  <tbody>\n",
       "    <tr>\n",
       "      <th>0</th>\n",
       "      <td>es</td>\n",
       "      <td>El PP desdeña la comisión independiente sobre ...</td>\n",
       "    </tr>\n",
       "    <tr>\n",
       "      <th>1</th>\n",
       "      <td>es</td>\n",
       "      <td>El Gobierno carga contra el PP por su posición...</td>\n",
       "    </tr>\n",
       "    <tr>\n",
       "      <th>2</th>\n",
       "      <td>es</td>\n",
       "      <td>El Gobierno eleva el crecimiento económico de ...</td>\n",
       "    </tr>\n",
       "    <tr>\n",
       "      <th>3</th>\n",
       "      <td>es</td>\n",
       "      <td>iPhone iOS 26: las cinco novedades estrella de...</td>\n",
       "    </tr>\n",
       "    <tr>\n",
       "      <th>4</th>\n",
       "      <td>es</td>\n",
       "      <td>La Guía Gastro 2025: una selección de los rest...</td>\n",
       "    </tr>\n",
       "  </tbody>\n",
       "</table>\n",
       "</div>"
      ],
      "text/plain": [
       "  language                                           headline\n",
       "0       es  El PP desdeña la comisión independiente sobre ...\n",
       "1       es  El Gobierno carga contra el PP por su posición...\n",
       "2       es  El Gobierno eleva el crecimiento económico de ...\n",
       "3       es  iPhone iOS 26: las cinco novedades estrella de...\n",
       "4       es  La Guía Gastro 2025: una selección de los rest..."
      ]
     },
     "execution_count": 6,
     "metadata": {},
     "output_type": "execute_result"
    }
   ],
   "source": [
    "df = pd.read_csv(\"../data/headlines_democracy.csv\")\n",
    "df.head()"
   ]
  },
  {
   "cell_type": "code",
   "execution_count": 7,
   "id": "21bf791f",
   "metadata": {},
   "outputs": [],
   "source": [
    "# TRANSLATE HEADLINES INTO GERMAN\n",
    "\n",
    "# pip install sacremoses to prevent UseWarning\n",
    "\n",
    "spanish_headlines = df[\"headline\"].tolist()\n",
    "\n",
    "# --- Step 2: Translation function ---\n",
    "def translate_to_german(texts):\n",
    "    model_name = \"Helsinki-NLP/opus-mt-es-de\"\n",
    "    tokenizer = MarianTokenizer.from_pretrained(model_name)\n",
    "    model = MarianMTModel.from_pretrained(model_name)\n",
    "    \n",
    "    inputs = tokenizer(texts, return_tensors=\"pt\", padding=True, truncation=True)\n",
    "    translated = model.generate(**inputs)\n",
    "    return tokenizer.batch_decode(translated, skip_special_tokens=True)\n",
    "\n",
    "# --- Step 3: Translate Spanish → German ---\n",
    "german_translations = translate_to_german(spanish_headlines)\n",
    "\n",
    "# --- Step 4: Add German translations to DataFrame ---\n",
    "df[\"german\"] = german_translations"
   ]
  },
  {
   "cell_type": "code",
   "execution_count": 8,
   "id": "0480e119",
   "metadata": {},
   "outputs": [
    {
     "data": {
      "text/html": [
       "<div>\n",
       "<style scoped>\n",
       "    .dataframe tbody tr th:only-of-type {\n",
       "        vertical-align: middle;\n",
       "    }\n",
       "\n",
       "    .dataframe tbody tr th {\n",
       "        vertical-align: top;\n",
       "    }\n",
       "\n",
       "    .dataframe thead th {\n",
       "        text-align: right;\n",
       "    }\n",
       "</style>\n",
       "<table border=\"1\" class=\"dataframe\">\n",
       "  <thead>\n",
       "    <tr style=\"text-align: right;\">\n",
       "      <th></th>\n",
       "      <th>language</th>\n",
       "      <th>headline</th>\n",
       "      <th>german</th>\n",
       "    </tr>\n",
       "  </thead>\n",
       "  <tbody>\n",
       "    <tr>\n",
       "      <th>0</th>\n",
       "      <td>es</td>\n",
       "      <td>El PP desdeña la comisión independiente sobre ...</td>\n",
       "      <td>Die PP lehnt die unabhängige Gaza-Kommission a...</td>\n",
       "    </tr>\n",
       "    <tr>\n",
       "      <th>1</th>\n",
       "      <td>es</td>\n",
       "      <td>El Gobierno carga contra el PP por su posición...</td>\n",
       "      <td>Die Regierung bürgt gegen die PP für ihre Posi...</td>\n",
       "    </tr>\n",
       "    <tr>\n",
       "      <th>2</th>\n",
       "      <td>es</td>\n",
       "      <td>El Gobierno eleva el crecimiento económico de ...</td>\n",
       "      <td>Die Regierung erhöht das Wirtschaftswachstum d...</td>\n",
       "    </tr>\n",
       "    <tr>\n",
       "      <th>3</th>\n",
       "      <td>es</td>\n",
       "      <td>iPhone iOS 26: las cinco novedades estrella de...</td>\n",
       "      <td>iPhone iOS 26: die fünf Star-Neuheiten des neu...</td>\n",
       "    </tr>\n",
       "    <tr>\n",
       "      <th>4</th>\n",
       "      <td>es</td>\n",
       "      <td>La Guía Gastro 2025: una selección de los rest...</td>\n",
       "      <td>Der Gastro-Leitfaden 2025: eine Auswahl der Li...</td>\n",
       "    </tr>\n",
       "  </tbody>\n",
       "</table>\n",
       "</div>"
      ],
      "text/plain": [
       "  language                                           headline  \\\n",
       "0       es  El PP desdeña la comisión independiente sobre ...   \n",
       "1       es  El Gobierno carga contra el PP por su posición...   \n",
       "2       es  El Gobierno eleva el crecimiento económico de ...   \n",
       "3       es  iPhone iOS 26: las cinco novedades estrella de...   \n",
       "4       es  La Guía Gastro 2025: una selección de los rest...   \n",
       "\n",
       "                                              german  \n",
       "0  Die PP lehnt die unabhängige Gaza-Kommission a...  \n",
       "1  Die Regierung bürgt gegen die PP für ihre Posi...  \n",
       "2  Die Regierung erhöht das Wirtschaftswachstum d...  \n",
       "3  iPhone iOS 26: die fünf Star-Neuheiten des neu...  \n",
       "4  Der Gastro-Leitfaden 2025: eine Auswahl der Li...  "
      ]
     },
     "execution_count": 8,
     "metadata": {},
     "output_type": "execute_result"
    }
   ],
   "source": [
    "df.head()"
   ]
  },
  {
   "cell_type": "markdown",
   "id": "a893e801",
   "metadata": {},
   "source": [
    "Evaluation against a reference corpus OPUS"
   ]
  },
  {
   "cell_type": "code",
   "execution_count": 9,
   "id": "b93df06c",
   "metadata": {},
   "outputs": [
    {
     "name": "stdout",
     "output_type": "stream",
     "text": [
      "Loaded 171674 Spanish-German sentence pairs from TMX\n"
     ]
    }
   ],
   "source": [
    "# PARSE TMX AND PREPARE SPANISH ↔ GERMAN PAIRS\n",
    "import xml.etree.ElementTree as ET\n",
    "import pandas as pd\n",
    "\n",
    "tmx_file = \"../data/de-es.tmx\"  # path to your TMX file\n",
    "\n",
    "# Parse TMX\n",
    "tree = ET.parse(tmx_file)\n",
    "root = tree.getroot()\n",
    "\n",
    "# TMX namespace (may vary)\n",
    "ns = {'xml': 'http://www.w3.org/XML/1998/namespace'}\n",
    "\n",
    "spanish_sentences = []\n",
    "german_sentences = []\n",
    "\n",
    "# Iterate over translation units\n",
    "for tu in root.iter('tu'):\n",
    "    segs = tu.findall('tuv')\n",
    "    src_text = None\n",
    "    tgt_text = None\n",
    "    for tuv in segs:\n",
    "        lang = tuv.attrib.get('{http://www.w3.org/XML/1998/namespace}lang', '').lower()\n",
    "        seg = tuv.find('seg')\n",
    "        if seg is not None and seg.text:\n",
    "            text = seg.text.strip()\n",
    "            if lang.startswith(\"es\"):\n",
    "                src_text = text\n",
    "            elif lang.startswith(\"de\"):\n",
    "                tgt_text = text\n",
    "    if src_text and tgt_text:\n",
    "        spanish_sentences.append(src_text)\n",
    "        german_sentences.append(tgt_text)\n",
    "\n",
    "# Create DataFrame\n",
    "df_opus = pd.DataFrame({\n",
    "    \"spanish\": spanish_sentences,\n",
    "    \"german\": german_sentences\n",
    "})\n",
    "\n",
    "print(f\"Loaded {len(df_opus)} Spanish-German sentence pairs from TMX\")"
   ]
  },
  {
   "cell_type": "code",
   "execution_count": 10,
   "id": "1c4a925c",
   "metadata": {},
   "outputs": [
    {
     "data": {
      "text/html": [
       "<div>\n",
       "<style scoped>\n",
       "    .dataframe tbody tr th:only-of-type {\n",
       "        vertical-align: middle;\n",
       "    }\n",
       "\n",
       "    .dataframe tbody tr th {\n",
       "        vertical-align: top;\n",
       "    }\n",
       "\n",
       "    .dataframe thead th {\n",
       "        text-align: right;\n",
       "    }\n",
       "</style>\n",
       "<table border=\"1\" class=\"dataframe\">\n",
       "  <thead>\n",
       "    <tr style=\"text-align: right;\">\n",
       "      <th></th>\n",
       "      <th>spanish</th>\n",
       "      <th>german</th>\n",
       "    </tr>\n",
       "  </thead>\n",
       "  <tbody>\n",
       "    <tr>\n",
       "      <th>0</th>\n",
       "      <td>¿El oro a 10.000 dólares?</td>\n",
       "      <td>Steigt Gold auf 10.000 Dollar?</td>\n",
       "    </tr>\n",
       "    <tr>\n",
       "      <th>1</th>\n",
       "      <td>SAN FRANCISCO – Nunca ha resultado fácil soste...</td>\n",
       "      <td>SAN FRANCISCO – Es war noch nie leicht, ein ra...</td>\n",
       "    </tr>\n",
       "    <tr>\n",
       "      <th>2</th>\n",
       "      <td>Últimamente, con los precios del oro más de un...</td>\n",
       "      <td>In letzter Zeit allerdings ist dies schwierige...</td>\n",
       "    </tr>\n",
       "    <tr>\n",
       "      <th>3</th>\n",
       "      <td>Apenas en el pasado mes de diciembre, mis cole...</td>\n",
       "      <td>Erst letzten Dezember verfassten meine Kollege...</td>\n",
       "    </tr>\n",
       "    <tr>\n",
       "      <th>4</th>\n",
       "      <td>¿Y saben qué?</td>\n",
       "      <td>Und es kam, wie es kommen musste.</td>\n",
       "    </tr>\n",
       "  </tbody>\n",
       "</table>\n",
       "</div>"
      ],
      "text/plain": [
       "                                             spanish  \\\n",
       "0                          ¿El oro a 10.000 dólares?   \n",
       "1  SAN FRANCISCO – Nunca ha resultado fácil soste...   \n",
       "2  Últimamente, con los precios del oro más de un...   \n",
       "3  Apenas en el pasado mes de diciembre, mis cole...   \n",
       "4                                      ¿Y saben qué?   \n",
       "\n",
       "                                              german  \n",
       "0                     Steigt Gold auf 10.000 Dollar?  \n",
       "1  SAN FRANCISCO – Es war noch nie leicht, ein ra...  \n",
       "2  In letzter Zeit allerdings ist dies schwierige...  \n",
       "3  Erst letzten Dezember verfassten meine Kollege...  \n",
       "4                  Und es kam, wie es kommen musste.  "
      ]
     },
     "execution_count": 10,
     "metadata": {},
     "output_type": "execute_result"
    }
   ],
   "source": [
    "df_opus.head()"
   ]
  },
  {
   "cell_type": "code",
   "execution_count": 11,
   "id": "62567813",
   "metadata": {},
   "outputs": [
    {
     "name": "stdout",
     "output_type": "stream",
     "text": [
      "Using 5000 OPUS Spanish-German sentence pairs for evaluation.\n",
      "BLEU score: 0.71\n",
      "Headline (ES): El PP desdeña la comisión independiente sobre Gaza: “No le compete ni a la ONU ni al presidente decidir lo que es o no es un genocidio”\n",
      "MT translation (DE): Die PP lehnt die unabhängige Gaza-Kommission ab: Es ist weder Sache der UNO noch des Präsidenten zu entscheiden, was ein Völkermord ist.\n",
      "Reference (DE): Sogar der ehemalige US-Vizepräsident und Nobelpreisträger Al Gore – der sich einst gerühmt hatte die entscheidende Stimme für die Unterstützung von Ethanol abgegeben zu haben – bezeichnet die Politik als „einen Fehler“.\n",
      "---\n",
      "Headline (ES): El Gobierno carga contra el PP por su posición sobre Gaza: “No es ignorancia, es mala fe. Les va a perseguir toda la vida”\n",
      "MT translation (DE): Die Regierung bürgt gegen die PP für ihre Position gegenüber Gaza: Es ist keine Unwissenheit, es ist ein böser Glaube. Sie wird ihr Leben lang verfolgen.\n",
      "Reference (DE): In der Meinung, dass die Situation in den ländlichen Gebieten ohnehin nicht mehr schlimmer werden kann, griff die Regierung auch nicht ein.\n",
      "---\n",
      "Headline (ES): El Gobierno eleva el crecimiento económico de este año una décima, hasta el 2,7%\n",
      "MT translation (DE): Die Regierung erhöht das Wirtschaftswachstum dieses Jahres um ein Zehntel, auf 2,7%\n",
      "Reference (DE): Die makroökonomischen Stabilisierungsbemühungen der Regierung haben gemeinsam mit Maßnahmen zur Steigerung des Wachstumspotenzials des Landes dazu geführt, dass die Zinsen im letzten Jahrzehnt fallen konnten.\n",
      "---\n",
      "Headline (ES): iPhone iOS 26: las cinco novedades estrella del nuevo sistema operativo de Apple\n",
      "MT translation (DE): iPhone iOS 26: die fünf Star-Neuheiten des neuen Apple-Betriebssystems\n",
      "Reference (DE): Beppe Grillos Fünf-Sterne-Bewegung erhielt 25 Prozent der Stimmen und damit die höchste Stimmenanzahl für eine Einzelpartei.\n",
      "---\n",
      "Headline (ES): La Guía Gastro 2025: una selección de los restaurantes y comercios favoritos de los expertos de EL PAÍS\n",
      "MT translation (DE): Der Gastro-Leitfaden 2025: eine Auswahl der Lieblingsrestaurants und Läden von Experten aus EL LAND\n",
      "Reference (DE): Brasiliens Wahl am Wendepunkt\n",
      "---\n"
     ]
    }
   ],
   "source": [
    "from sentence_transformers import SentenceTransformer, util\n",
    "import sacrebleu\n",
    "import torch\n",
    "\n",
    "# --- Parameters ---\n",
    "max_opus_sentences = 5000   # max number of OPUS sentences to use\n",
    "keywords = [\"democracia\", \"elecciones\", \"voto\", \"gobierno\", \"política\"]  # optional filtering\n",
    "\n",
    "# --- Step 0: Subsample and/or filter OPUS ---\n",
    "df_opus_small = df_opus.copy()\n",
    "\n",
    "# Filter by keywords (optional)\n",
    "df_opus_small = df_opus_small[df_opus_small[\"spanish\"]\n",
    "                              .str.contains(\"|\".join(keywords), case=False, na=False)].reset_index(drop=True)\n",
    "\n",
    "# Take only first max_opus_sentences\n",
    "df_opus_small = df_opus_small.head(max_opus_sentences).reset_index(drop=True)\n",
    "print(f\"Using {len(df_opus_small)} OPUS Spanish-German sentence pairs for evaluation.\")\n",
    "\n",
    "# --- Step 1: Load multilingual sentence transformer ---\n",
    "model = SentenceTransformer(\"distiluse-base-multilingual-cased-v2\")\n",
    "\n",
    "# Encode headlines and OPUS Spanish sentences\n",
    "headline_embs = model.encode(df[\"headline\"].tolist(), convert_to_tensor=True)\n",
    "opus_embs = model.encode(df_opus_small[\"spanish\"].tolist(), convert_to_tensor=True)\n",
    "\n",
    "# Move to GPU if available\n",
    "if torch.cuda.is_available():\n",
    "    headline_embs = headline_embs.to('cuda')\n",
    "    opus_embs = opus_embs.to('cuda')\n",
    "\n",
    "# --- Step 2: Compute batched cosine similarities ---\n",
    "scores = util.cos_sim(headline_embs, opus_embs)  # shape: (num_headlines x num_opus)\n",
    "idxs = scores.argmax(dim=1)                       # best match per headline\n",
    "\n",
    "# --- Step 3: Get corresponding German references ---\n",
    "closest_refs = [df_opus_small[\"german\"].iloc[int(i)] for i in idxs]\n",
    "\n",
    "# --- Step 4: Compute BLEU ---\n",
    "hypotheses = df[\"german\"].tolist()  # MarianMT translations\n",
    "references = [closest_refs]         # sacrebleu expects a list of lists\n",
    "\n",
    "bleu = sacrebleu.corpus_bleu(hypotheses, references)\n",
    "print(f\"BLEU score: {bleu.score:.2f}\")\n",
    "\n",
    "# --- Step 5: Optional: inspect first 5 examples ---\n",
    "for i in range(min(5, len(df))):\n",
    "    print(\"Headline (ES):\", df[\"headline\"].iloc[i])\n",
    "    print(\"MT translation (DE):\", hypotheses[i])\n",
    "    print(\"Reference (DE):\", closest_refs[i])\n",
    "    print(\"---\")\n"
   ]
  },
  {
   "cell_type": "code",
   "execution_count": 12,
   "id": "817dca84",
   "metadata": {},
   "outputs": [
    {
     "name": "stdout",
     "output_type": "stream",
     "text": [
      "chrF score: 19.65\n",
      "Headline (ES): El PP desdeña la comisión independiente sobre Gaza: “No le compete ni a la ONU ni al presidente decidir lo que es o no es un genocidio”\n",
      "MT translation (DE): Die PP lehnt die unabhängige Gaza-Kommission ab: Es ist weder Sache der UNO noch des Präsidenten zu entscheiden, was ein Völkermord ist.\n",
      "Reference (DE): Sogar der ehemalige US-Vizepräsident und Nobelpreisträger Al Gore – der sich einst gerühmt hatte die entscheidende Stimme für die Unterstützung von Ethanol abgegeben zu haben – bezeichnet die Politik als „einen Fehler“.\n",
      "---\n",
      "Headline (ES): El Gobierno carga contra el PP por su posición sobre Gaza: “No es ignorancia, es mala fe. Les va a perseguir toda la vida”\n",
      "MT translation (DE): Die Regierung bürgt gegen die PP für ihre Position gegenüber Gaza: Es ist keine Unwissenheit, es ist ein böser Glaube. Sie wird ihr Leben lang verfolgen.\n",
      "Reference (DE): In der Meinung, dass die Situation in den ländlichen Gebieten ohnehin nicht mehr schlimmer werden kann, griff die Regierung auch nicht ein.\n",
      "---\n",
      "Headline (ES): El Gobierno eleva el crecimiento económico de este año una décima, hasta el 2,7%\n",
      "MT translation (DE): Die Regierung erhöht das Wirtschaftswachstum dieses Jahres um ein Zehntel, auf 2,7%\n",
      "Reference (DE): Die makroökonomischen Stabilisierungsbemühungen der Regierung haben gemeinsam mit Maßnahmen zur Steigerung des Wachstumspotenzials des Landes dazu geführt, dass die Zinsen im letzten Jahrzehnt fallen konnten.\n",
      "---\n",
      "Headline (ES): iPhone iOS 26: las cinco novedades estrella del nuevo sistema operativo de Apple\n",
      "MT translation (DE): iPhone iOS 26: die fünf Star-Neuheiten des neuen Apple-Betriebssystems\n",
      "Reference (DE): Beppe Grillos Fünf-Sterne-Bewegung erhielt 25 Prozent der Stimmen und damit die höchste Stimmenanzahl für eine Einzelpartei.\n",
      "---\n",
      "Headline (ES): La Guía Gastro 2025: una selección de los restaurantes y comercios favoritos de los expertos de EL PAÍS\n",
      "MT translation (DE): Der Gastro-Leitfaden 2025: eine Auswahl der Lieblingsrestaurants und Läden von Experten aus EL LAND\n",
      "Reference (DE): Brasiliens Wahl am Wendepunkt\n",
      "---\n"
     ]
    }
   ],
   "source": [
    "# --- Step 4b: Compute chrF ---\n",
    "chrf = sacrebleu.corpus_chrf(hypotheses, references)\n",
    "print(f\"chrF score: {chrf.score:.2f}\")\n",
    "\n",
    "# --- Step 5: Optional: inspect first 5 examples ---\n",
    "for i in range(min(5, len(df))):\n",
    "    print(\"Headline (ES):\", df[\"headline\"].iloc[i])\n",
    "    print(\"MT translation (DE):\", hypotheses[i])\n",
    "    print(\"Reference (DE):\", closest_refs[i])\n",
    "    print(\"---\")"
   ]
  },
  {
   "cell_type": "code",
   "execution_count": 13,
   "id": "66b67801",
   "metadata": {},
   "outputs": [
    {
     "name": "stdout",
     "output_type": "stream",
     "text": [
      "BERTScore Precision: 0.6632214784622192\n",
      "BERTScore Recall: 0.6643345952033997\n",
      "BERTScore F1 (semantic similarity): 0.6634325385093689\n",
      "Headline (ES): El PP desdeña la comisión independiente sobre Gaza: “No le compete ni a la ONU ni al presidente decidir lo que es o no es un genocidio”\n",
      "MT translation (DE): Die PP lehnt die unabhängige Gaza-Kommission ab: Es ist weder Sache der UNO noch des Präsidenten zu entscheiden, was ein Völkermord ist.\n",
      "Reference (DE): Sogar der ehemalige US-Vizepräsident und Nobelpreisträger Al Gore – der sich einst gerühmt hatte die entscheidende Stimme für die Unterstützung von Ethanol abgegeben zu haben – bezeichnet die Politik als „einen Fehler“.\n",
      "Semantic similarity (F1): 0.6580751538276672\n",
      "---\n",
      "Headline (ES): El Gobierno carga contra el PP por su posición sobre Gaza: “No es ignorancia, es mala fe. Les va a perseguir toda la vida”\n",
      "MT translation (DE): Die Regierung bürgt gegen die PP für ihre Position gegenüber Gaza: Es ist keine Unwissenheit, es ist ein böser Glaube. Sie wird ihr Leben lang verfolgen.\n",
      "Reference (DE): In der Meinung, dass die Situation in den ländlichen Gebieten ohnehin nicht mehr schlimmer werden kann, griff die Regierung auch nicht ein.\n",
      "Semantic similarity (F1): 0.6596712470054626\n",
      "---\n",
      "Headline (ES): El Gobierno eleva el crecimiento económico de este año una décima, hasta el 2,7%\n",
      "MT translation (DE): Die Regierung erhöht das Wirtschaftswachstum dieses Jahres um ein Zehntel, auf 2,7%\n",
      "Reference (DE): Die makroökonomischen Stabilisierungsbemühungen der Regierung haben gemeinsam mit Maßnahmen zur Steigerung des Wachstumspotenzials des Landes dazu geführt, dass die Zinsen im letzten Jahrzehnt fallen konnten.\n",
      "Semantic similarity (F1): 0.672985851764679\n",
      "---\n",
      "Headline (ES): iPhone iOS 26: las cinco novedades estrella del nuevo sistema operativo de Apple\n",
      "MT translation (DE): iPhone iOS 26: die fünf Star-Neuheiten des neuen Apple-Betriebssystems\n",
      "Reference (DE): Beppe Grillos Fünf-Sterne-Bewegung erhielt 25 Prozent der Stimmen und damit die höchste Stimmenanzahl für eine Einzelpartei.\n",
      "Semantic similarity (F1): 0.6357467174530029\n",
      "---\n",
      "Headline (ES): La Guía Gastro 2025: una selección de los restaurantes y comercios favoritos de los expertos de EL PAÍS\n",
      "MT translation (DE): Der Gastro-Leitfaden 2025: eine Auswahl der Lieblingsrestaurants und Läden von Experten aus EL LAND\n",
      "Reference (DE): Brasiliens Wahl am Wendepunkt\n",
      "Semantic similarity (F1): 0.6583747863769531\n",
      "---\n"
     ]
    }
   ],
   "source": [
    "from bert_score import score\n",
    "# --- Step 1: Compute BERTScore ---\n",
    "# Use a multilingual model suitable for German\n",
    "P, R, F1 = score(\n",
    "    df[\"german\"].tolist(),        # MarianMT translations (hypotheses)\n",
    "    closest_refs,                 # aligned OPUS references (German)\n",
    "    lang=\"de\",\n",
    "    model_type=\"bert-base-multilingual-cased\",\n",
    "    device=\"cuda\" if torch.cuda.is_available() else \"cpu\"\n",
    ")\n",
    "\n",
    "# --- Step 2: Print average semantic score ---\n",
    "print(\"BERTScore Precision:\", P.mean().item())\n",
    "print(\"BERTScore Recall:\", R.mean().item())\n",
    "print(\"BERTScore F1 (semantic similarity):\", F1.mean().item())\n",
    "\n",
    "# --- Step 3: Optional: inspect first 5 examples ---\n",
    "for i in range(min(5, len(df))):\n",
    "    print(\"Headline (ES):\", df[\"headline\"].iloc[i])\n",
    "    print(\"MT translation (DE):\", df[\"german\"].iloc[i])\n",
    "    print(\"Reference (DE):\", closest_refs[i])\n",
    "    print(\"Semantic similarity (F1):\", F1[i].item())\n",
    "    print(\"---\")\n"
   ]
  },
  {
   "cell_type": "markdown",
   "id": "b2601f82",
   "metadata": {},
   "source": [
    "✅ Summary:\n",
    "\n",
    "The MarianMT Spanish → German translations are highly accurate at the word level (BLEU) and reasonably accurate at the semantic level (BERTScore).\n",
    "\n",
    "Character-level similarity (chrF) is lower due to headline brevity, variations in punctuation, and morphology.\n",
    "\n",
    "The alignment against a news-domain OPUS corpus, subcorpus News_comments, ensures that evaluation reflects realistic headline contexts rather than unrelated technical sentences.\n",
    "\n",
    "💡 Takeaway:\n",
    "The MT pipeline produces translations that are both understandable and faithful in meaning, making them suitable for tasks like multilingual news monitoring, headline summarization, or semantic analysis.\n"
   ]
  },
  {
   "cell_type": "markdown",
   "id": "ce6171d5",
   "metadata": {},
   "source": [
    "### Visualising Metrics"
   ]
  },
  {
   "cell_type": "code",
   "execution_count": 14,
   "id": "fbcc8673",
   "metadata": {},
   "outputs": [
    {
     "data": {
      "application/vnd.plotly.v1+json": {
       "config": {
        "plotlyServerURL": "https://plot.ly"
       },
       "data": [
        {
         "hovertemplate": "Metric=%{x}<br>Score=%{text}<extra></extra>",
         "legendgroup": "BLEU",
         "marker": {
          "color": "#440154",
          "pattern": {
           "shape": ""
          }
         },
         "name": "BLEU",
         "orientation": "v",
         "showlegend": true,
         "text": {
          "bdata": "uGbWNM235j8=",
          "dtype": "f8"
         },
         "textposition": "outside",
         "texttemplate": "%{text:.2f}",
         "type": "bar",
         "x": [
          "BLEU"
         ],
         "xaxis": "x",
         "y": {
          "bdata": "uGbWNM235j8=",
          "dtype": "f8"
         },
         "yaxis": "y"
        },
        {
         "hovertemplate": "Metric=%{x}<br>Score=%{text}<extra></extra>",
         "legendgroup": "chrF",
         "marker": {
          "color": "#482878",
          "pattern": {
           "shape": ""
          }
         },
         "name": "chrF",
         "orientation": "v",
         "showlegend": true,
         "text": {
          "bdata": "gR6ysZilM0A=",
          "dtype": "f8"
         },
         "textposition": "outside",
         "texttemplate": "%{text:.2f}",
         "type": "bar",
         "x": [
          "chrF"
         ],
         "xaxis": "x",
         "y": {
          "bdata": "gR6ysZilM0A=",
          "dtype": "f8"
         },
         "yaxis": "y"
        },
        {
         "hovertemplate": "Metric=%{x}<br>Score=%{text}<extra></extra>",
         "legendgroup": "BERTScore_F1",
         "marker": {
          "color": "#3e4989",
          "pattern": {
           "shape": ""
          }
         },
         "name": "BERTScore_F1",
         "orientation": "v",
         "showlegend": true,
         "text": {
          "bdata": "AAAA3/eVUEA=",
          "dtype": "f8"
         },
         "textposition": "outside",
         "texttemplate": "%{text:.2f}",
         "type": "bar",
         "x": [
          "BERTScore_F1"
         ],
         "xaxis": "x",
         "y": {
          "bdata": "AAAA3/eVUEA=",
          "dtype": "f8"
         },
         "yaxis": "y"
        }
       ],
       "layout": {
        "barmode": "relative",
        "legend": {
         "title": {
          "text": "Metric"
         },
         "tracegroupgap": 0
        },
        "template": {
         "data": {
          "bar": [
           {
            "error_x": {
             "color": "#2a3f5f"
            },
            "error_y": {
             "color": "#2a3f5f"
            },
            "marker": {
             "line": {
              "color": "#E5ECF6",
              "width": 0.5
             },
             "pattern": {
              "fillmode": "overlay",
              "size": 10,
              "solidity": 0.2
             }
            },
            "type": "bar"
           }
          ],
          "barpolar": [
           {
            "marker": {
             "line": {
              "color": "#E5ECF6",
              "width": 0.5
             },
             "pattern": {
              "fillmode": "overlay",
              "size": 10,
              "solidity": 0.2
             }
            },
            "type": "barpolar"
           }
          ],
          "carpet": [
           {
            "aaxis": {
             "endlinecolor": "#2a3f5f",
             "gridcolor": "white",
             "linecolor": "white",
             "minorgridcolor": "white",
             "startlinecolor": "#2a3f5f"
            },
            "baxis": {
             "endlinecolor": "#2a3f5f",
             "gridcolor": "white",
             "linecolor": "white",
             "minorgridcolor": "white",
             "startlinecolor": "#2a3f5f"
            },
            "type": "carpet"
           }
          ],
          "choropleth": [
           {
            "colorbar": {
             "outlinewidth": 0,
             "ticks": ""
            },
            "type": "choropleth"
           }
          ],
          "contour": [
           {
            "colorbar": {
             "outlinewidth": 0,
             "ticks": ""
            },
            "colorscale": [
             [
              0,
              "#0d0887"
             ],
             [
              0.1111111111111111,
              "#46039f"
             ],
             [
              0.2222222222222222,
              "#7201a8"
             ],
             [
              0.3333333333333333,
              "#9c179e"
             ],
             [
              0.4444444444444444,
              "#bd3786"
             ],
             [
              0.5555555555555556,
              "#d8576b"
             ],
             [
              0.6666666666666666,
              "#ed7953"
             ],
             [
              0.7777777777777778,
              "#fb9f3a"
             ],
             [
              0.8888888888888888,
              "#fdca26"
             ],
             [
              1,
              "#f0f921"
             ]
            ],
            "type": "contour"
           }
          ],
          "contourcarpet": [
           {
            "colorbar": {
             "outlinewidth": 0,
             "ticks": ""
            },
            "type": "contourcarpet"
           }
          ],
          "heatmap": [
           {
            "colorbar": {
             "outlinewidth": 0,
             "ticks": ""
            },
            "colorscale": [
             [
              0,
              "#0d0887"
             ],
             [
              0.1111111111111111,
              "#46039f"
             ],
             [
              0.2222222222222222,
              "#7201a8"
             ],
             [
              0.3333333333333333,
              "#9c179e"
             ],
             [
              0.4444444444444444,
              "#bd3786"
             ],
             [
              0.5555555555555556,
              "#d8576b"
             ],
             [
              0.6666666666666666,
              "#ed7953"
             ],
             [
              0.7777777777777778,
              "#fb9f3a"
             ],
             [
              0.8888888888888888,
              "#fdca26"
             ],
             [
              1,
              "#f0f921"
             ]
            ],
            "type": "heatmap"
           }
          ],
          "histogram": [
           {
            "marker": {
             "pattern": {
              "fillmode": "overlay",
              "size": 10,
              "solidity": 0.2
             }
            },
            "type": "histogram"
           }
          ],
          "histogram2d": [
           {
            "colorbar": {
             "outlinewidth": 0,
             "ticks": ""
            },
            "colorscale": [
             [
              0,
              "#0d0887"
             ],
             [
              0.1111111111111111,
              "#46039f"
             ],
             [
              0.2222222222222222,
              "#7201a8"
             ],
             [
              0.3333333333333333,
              "#9c179e"
             ],
             [
              0.4444444444444444,
              "#bd3786"
             ],
             [
              0.5555555555555556,
              "#d8576b"
             ],
             [
              0.6666666666666666,
              "#ed7953"
             ],
             [
              0.7777777777777778,
              "#fb9f3a"
             ],
             [
              0.8888888888888888,
              "#fdca26"
             ],
             [
              1,
              "#f0f921"
             ]
            ],
            "type": "histogram2d"
           }
          ],
          "histogram2dcontour": [
           {
            "colorbar": {
             "outlinewidth": 0,
             "ticks": ""
            },
            "colorscale": [
             [
              0,
              "#0d0887"
             ],
             [
              0.1111111111111111,
              "#46039f"
             ],
             [
              0.2222222222222222,
              "#7201a8"
             ],
             [
              0.3333333333333333,
              "#9c179e"
             ],
             [
              0.4444444444444444,
              "#bd3786"
             ],
             [
              0.5555555555555556,
              "#d8576b"
             ],
             [
              0.6666666666666666,
              "#ed7953"
             ],
             [
              0.7777777777777778,
              "#fb9f3a"
             ],
             [
              0.8888888888888888,
              "#fdca26"
             ],
             [
              1,
              "#f0f921"
             ]
            ],
            "type": "histogram2dcontour"
           }
          ],
          "mesh3d": [
           {
            "colorbar": {
             "outlinewidth": 0,
             "ticks": ""
            },
            "type": "mesh3d"
           }
          ],
          "parcoords": [
           {
            "line": {
             "colorbar": {
              "outlinewidth": 0,
              "ticks": ""
             }
            },
            "type": "parcoords"
           }
          ],
          "pie": [
           {
            "automargin": true,
            "type": "pie"
           }
          ],
          "scatter": [
           {
            "fillpattern": {
             "fillmode": "overlay",
             "size": 10,
             "solidity": 0.2
            },
            "type": "scatter"
           }
          ],
          "scatter3d": [
           {
            "line": {
             "colorbar": {
              "outlinewidth": 0,
              "ticks": ""
             }
            },
            "marker": {
             "colorbar": {
              "outlinewidth": 0,
              "ticks": ""
             }
            },
            "type": "scatter3d"
           }
          ],
          "scattercarpet": [
           {
            "marker": {
             "colorbar": {
              "outlinewidth": 0,
              "ticks": ""
             }
            },
            "type": "scattercarpet"
           }
          ],
          "scattergeo": [
           {
            "marker": {
             "colorbar": {
              "outlinewidth": 0,
              "ticks": ""
             }
            },
            "type": "scattergeo"
           }
          ],
          "scattergl": [
           {
            "marker": {
             "colorbar": {
              "outlinewidth": 0,
              "ticks": ""
             }
            },
            "type": "scattergl"
           }
          ],
          "scattermap": [
           {
            "marker": {
             "colorbar": {
              "outlinewidth": 0,
              "ticks": ""
             }
            },
            "type": "scattermap"
           }
          ],
          "scattermapbox": [
           {
            "marker": {
             "colorbar": {
              "outlinewidth": 0,
              "ticks": ""
             }
            },
            "type": "scattermapbox"
           }
          ],
          "scatterpolar": [
           {
            "marker": {
             "colorbar": {
              "outlinewidth": 0,
              "ticks": ""
             }
            },
            "type": "scatterpolar"
           }
          ],
          "scatterpolargl": [
           {
            "marker": {
             "colorbar": {
              "outlinewidth": 0,
              "ticks": ""
             }
            },
            "type": "scatterpolargl"
           }
          ],
          "scatterternary": [
           {
            "marker": {
             "colorbar": {
              "outlinewidth": 0,
              "ticks": ""
             }
            },
            "type": "scatterternary"
           }
          ],
          "surface": [
           {
            "colorbar": {
             "outlinewidth": 0,
             "ticks": ""
            },
            "colorscale": [
             [
              0,
              "#0d0887"
             ],
             [
              0.1111111111111111,
              "#46039f"
             ],
             [
              0.2222222222222222,
              "#7201a8"
             ],
             [
              0.3333333333333333,
              "#9c179e"
             ],
             [
              0.4444444444444444,
              "#bd3786"
             ],
             [
              0.5555555555555556,
              "#d8576b"
             ],
             [
              0.6666666666666666,
              "#ed7953"
             ],
             [
              0.7777777777777778,
              "#fb9f3a"
             ],
             [
              0.8888888888888888,
              "#fdca26"
             ],
             [
              1,
              "#f0f921"
             ]
            ],
            "type": "surface"
           }
          ],
          "table": [
           {
            "cells": {
             "fill": {
              "color": "#EBF0F8"
             },
             "line": {
              "color": "white"
             }
            },
            "header": {
             "fill": {
              "color": "#C8D4E3"
             },
             "line": {
              "color": "white"
             }
            },
            "type": "table"
           }
          ]
         },
         "layout": {
          "annotationdefaults": {
           "arrowcolor": "#2a3f5f",
           "arrowhead": 0,
           "arrowwidth": 1
          },
          "autotypenumbers": "strict",
          "coloraxis": {
           "colorbar": {
            "outlinewidth": 0,
            "ticks": ""
           }
          },
          "colorscale": {
           "diverging": [
            [
             0,
             "#8e0152"
            ],
            [
             0.1,
             "#c51b7d"
            ],
            [
             0.2,
             "#de77ae"
            ],
            [
             0.3,
             "#f1b6da"
            ],
            [
             0.4,
             "#fde0ef"
            ],
            [
             0.5,
             "#f7f7f7"
            ],
            [
             0.6,
             "#e6f5d0"
            ],
            [
             0.7,
             "#b8e186"
            ],
            [
             0.8,
             "#7fbc41"
            ],
            [
             0.9,
             "#4d9221"
            ],
            [
             1,
             "#276419"
            ]
           ],
           "sequential": [
            [
             0,
             "#0d0887"
            ],
            [
             0.1111111111111111,
             "#46039f"
            ],
            [
             0.2222222222222222,
             "#7201a8"
            ],
            [
             0.3333333333333333,
             "#9c179e"
            ],
            [
             0.4444444444444444,
             "#bd3786"
            ],
            [
             0.5555555555555556,
             "#d8576b"
            ],
            [
             0.6666666666666666,
             "#ed7953"
            ],
            [
             0.7777777777777778,
             "#fb9f3a"
            ],
            [
             0.8888888888888888,
             "#fdca26"
            ],
            [
             1,
             "#f0f921"
            ]
           ],
           "sequentialminus": [
            [
             0,
             "#0d0887"
            ],
            [
             0.1111111111111111,
             "#46039f"
            ],
            [
             0.2222222222222222,
             "#7201a8"
            ],
            [
             0.3333333333333333,
             "#9c179e"
            ],
            [
             0.4444444444444444,
             "#bd3786"
            ],
            [
             0.5555555555555556,
             "#d8576b"
            ],
            [
             0.6666666666666666,
             "#ed7953"
            ],
            [
             0.7777777777777778,
             "#fb9f3a"
            ],
            [
             0.8888888888888888,
             "#fdca26"
            ],
            [
             1,
             "#f0f921"
            ]
           ]
          },
          "colorway": [
           "#636efa",
           "#EF553B",
           "#00cc96",
           "#ab63fa",
           "#FFA15A",
           "#19d3f3",
           "#FF6692",
           "#B6E880",
           "#FF97FF",
           "#FECB52"
          ],
          "font": {
           "color": "#2a3f5f"
          },
          "geo": {
           "bgcolor": "white",
           "lakecolor": "white",
           "landcolor": "#E5ECF6",
           "showlakes": true,
           "showland": true,
           "subunitcolor": "white"
          },
          "hoverlabel": {
           "align": "left"
          },
          "hovermode": "closest",
          "mapbox": {
           "style": "light"
          },
          "paper_bgcolor": "white",
          "plot_bgcolor": "#E5ECF6",
          "polar": {
           "angularaxis": {
            "gridcolor": "white",
            "linecolor": "white",
            "ticks": ""
           },
           "bgcolor": "#E5ECF6",
           "radialaxis": {
            "gridcolor": "white",
            "linecolor": "white",
            "ticks": ""
           }
          },
          "scene": {
           "xaxis": {
            "backgroundcolor": "#E5ECF6",
            "gridcolor": "white",
            "gridwidth": 2,
            "linecolor": "white",
            "showbackground": true,
            "ticks": "",
            "zerolinecolor": "white"
           },
           "yaxis": {
            "backgroundcolor": "#E5ECF6",
            "gridcolor": "white",
            "gridwidth": 2,
            "linecolor": "white",
            "showbackground": true,
            "ticks": "",
            "zerolinecolor": "white"
           },
           "zaxis": {
            "backgroundcolor": "#E5ECF6",
            "gridcolor": "white",
            "gridwidth": 2,
            "linecolor": "white",
            "showbackground": true,
            "ticks": "",
            "zerolinecolor": "white"
           }
          },
          "shapedefaults": {
           "line": {
            "color": "#2a3f5f"
           }
          },
          "ternary": {
           "aaxis": {
            "gridcolor": "white",
            "linecolor": "white",
            "ticks": ""
           },
           "baxis": {
            "gridcolor": "white",
            "linecolor": "white",
            "ticks": ""
           },
           "bgcolor": "#E5ECF6",
           "caxis": {
            "gridcolor": "white",
            "linecolor": "white",
            "ticks": ""
           }
          },
          "title": {
           "x": 0.05
          },
          "xaxis": {
           "automargin": true,
           "gridcolor": "white",
           "linecolor": "white",
           "ticks": "",
           "title": {
            "standoff": 15
           },
           "zerolinecolor": "white",
           "zerolinewidth": 2
          },
          "yaxis": {
           "automargin": true,
           "gridcolor": "white",
           "linecolor": "white",
           "ticks": "",
           "title": {
            "standoff": 15
           },
           "zerolinecolor": "white",
           "zerolinewidth": 2
          }
         }
        },
        "title": {
         "text": "Corpus-level MT Evaluation Metrics"
        },
        "xaxis": {
         "anchor": "y",
         "categoryarray": [
          "BLEU",
          "chrF",
          "BERTScore_F1"
         ],
         "categoryorder": "array",
         "domain": [
          0,
          1
         ],
         "title": {
          "text": "Metric"
         }
        },
        "yaxis": {
         "anchor": "x",
         "domain": [
          0,
          1
         ],
         "range": [
          0,
          100
         ],
         "title": {
          "text": "Score"
         }
        }
       }
      }
     },
     "metadata": {},
     "output_type": "display_data"
    },
    {
     "data": {
      "application/vnd.plotly.v1+json": {
       "config": {
        "plotlyServerURL": "https://plot.ly"
       },
       "data": [
        {
         "bingroup": "x",
         "hovertemplate": "BERTScore F1 (%)=%{x}<br>count=%{y}<extra></extra>",
         "legendgroup": "",
         "marker": {
          "color": "skyblue",
          "pattern": {
           "shape": ""
          }
         },
         "name": "",
         "nbinsx": 10,
         "orientation": "v",
         "showlegend": false,
         "type": "histogram",
         "x": {
          "bdata": "c52DQivvg0LgmIZCd0x+Qsqsg0Izw4BC84CUQqmsjUIgOHVCe6mEQmHwiUKlwoFCG3iBQkv8i0KSbY9CBUF/QjH4gELtMYBCIUiJQuRCh0JI53tCz5yIQoz3gEL5J4FC3L6HQlDRe0LoFYpC8mN7Qg==",
          "dtype": "f4"
         },
         "xaxis": "x",
         "yaxis": "y"
        }
       ],
       "layout": {
        "bargap": 0.2,
        "barmode": "relative",
        "legend": {
         "tracegroupgap": 0
        },
        "template": {
         "data": {
          "bar": [
           {
            "error_x": {
             "color": "#2a3f5f"
            },
            "error_y": {
             "color": "#2a3f5f"
            },
            "marker": {
             "line": {
              "color": "#E5ECF6",
              "width": 0.5
             },
             "pattern": {
              "fillmode": "overlay",
              "size": 10,
              "solidity": 0.2
             }
            },
            "type": "bar"
           }
          ],
          "barpolar": [
           {
            "marker": {
             "line": {
              "color": "#E5ECF6",
              "width": 0.5
             },
             "pattern": {
              "fillmode": "overlay",
              "size": 10,
              "solidity": 0.2
             }
            },
            "type": "barpolar"
           }
          ],
          "carpet": [
           {
            "aaxis": {
             "endlinecolor": "#2a3f5f",
             "gridcolor": "white",
             "linecolor": "white",
             "minorgridcolor": "white",
             "startlinecolor": "#2a3f5f"
            },
            "baxis": {
             "endlinecolor": "#2a3f5f",
             "gridcolor": "white",
             "linecolor": "white",
             "minorgridcolor": "white",
             "startlinecolor": "#2a3f5f"
            },
            "type": "carpet"
           }
          ],
          "choropleth": [
           {
            "colorbar": {
             "outlinewidth": 0,
             "ticks": ""
            },
            "type": "choropleth"
           }
          ],
          "contour": [
           {
            "colorbar": {
             "outlinewidth": 0,
             "ticks": ""
            },
            "colorscale": [
             [
              0,
              "#0d0887"
             ],
             [
              0.1111111111111111,
              "#46039f"
             ],
             [
              0.2222222222222222,
              "#7201a8"
             ],
             [
              0.3333333333333333,
              "#9c179e"
             ],
             [
              0.4444444444444444,
              "#bd3786"
             ],
             [
              0.5555555555555556,
              "#d8576b"
             ],
             [
              0.6666666666666666,
              "#ed7953"
             ],
             [
              0.7777777777777778,
              "#fb9f3a"
             ],
             [
              0.8888888888888888,
              "#fdca26"
             ],
             [
              1,
              "#f0f921"
             ]
            ],
            "type": "contour"
           }
          ],
          "contourcarpet": [
           {
            "colorbar": {
             "outlinewidth": 0,
             "ticks": ""
            },
            "type": "contourcarpet"
           }
          ],
          "heatmap": [
           {
            "colorbar": {
             "outlinewidth": 0,
             "ticks": ""
            },
            "colorscale": [
             [
              0,
              "#0d0887"
             ],
             [
              0.1111111111111111,
              "#46039f"
             ],
             [
              0.2222222222222222,
              "#7201a8"
             ],
             [
              0.3333333333333333,
              "#9c179e"
             ],
             [
              0.4444444444444444,
              "#bd3786"
             ],
             [
              0.5555555555555556,
              "#d8576b"
             ],
             [
              0.6666666666666666,
              "#ed7953"
             ],
             [
              0.7777777777777778,
              "#fb9f3a"
             ],
             [
              0.8888888888888888,
              "#fdca26"
             ],
             [
              1,
              "#f0f921"
             ]
            ],
            "type": "heatmap"
           }
          ],
          "histogram": [
           {
            "marker": {
             "pattern": {
              "fillmode": "overlay",
              "size": 10,
              "solidity": 0.2
             }
            },
            "type": "histogram"
           }
          ],
          "histogram2d": [
           {
            "colorbar": {
             "outlinewidth": 0,
             "ticks": ""
            },
            "colorscale": [
             [
              0,
              "#0d0887"
             ],
             [
              0.1111111111111111,
              "#46039f"
             ],
             [
              0.2222222222222222,
              "#7201a8"
             ],
             [
              0.3333333333333333,
              "#9c179e"
             ],
             [
              0.4444444444444444,
              "#bd3786"
             ],
             [
              0.5555555555555556,
              "#d8576b"
             ],
             [
              0.6666666666666666,
              "#ed7953"
             ],
             [
              0.7777777777777778,
              "#fb9f3a"
             ],
             [
              0.8888888888888888,
              "#fdca26"
             ],
             [
              1,
              "#f0f921"
             ]
            ],
            "type": "histogram2d"
           }
          ],
          "histogram2dcontour": [
           {
            "colorbar": {
             "outlinewidth": 0,
             "ticks": ""
            },
            "colorscale": [
             [
              0,
              "#0d0887"
             ],
             [
              0.1111111111111111,
              "#46039f"
             ],
             [
              0.2222222222222222,
              "#7201a8"
             ],
             [
              0.3333333333333333,
              "#9c179e"
             ],
             [
              0.4444444444444444,
              "#bd3786"
             ],
             [
              0.5555555555555556,
              "#d8576b"
             ],
             [
              0.6666666666666666,
              "#ed7953"
             ],
             [
              0.7777777777777778,
              "#fb9f3a"
             ],
             [
              0.8888888888888888,
              "#fdca26"
             ],
             [
              1,
              "#f0f921"
             ]
            ],
            "type": "histogram2dcontour"
           }
          ],
          "mesh3d": [
           {
            "colorbar": {
             "outlinewidth": 0,
             "ticks": ""
            },
            "type": "mesh3d"
           }
          ],
          "parcoords": [
           {
            "line": {
             "colorbar": {
              "outlinewidth": 0,
              "ticks": ""
             }
            },
            "type": "parcoords"
           }
          ],
          "pie": [
           {
            "automargin": true,
            "type": "pie"
           }
          ],
          "scatter": [
           {
            "fillpattern": {
             "fillmode": "overlay",
             "size": 10,
             "solidity": 0.2
            },
            "type": "scatter"
           }
          ],
          "scatter3d": [
           {
            "line": {
             "colorbar": {
              "outlinewidth": 0,
              "ticks": ""
             }
            },
            "marker": {
             "colorbar": {
              "outlinewidth": 0,
              "ticks": ""
             }
            },
            "type": "scatter3d"
           }
          ],
          "scattercarpet": [
           {
            "marker": {
             "colorbar": {
              "outlinewidth": 0,
              "ticks": ""
             }
            },
            "type": "scattercarpet"
           }
          ],
          "scattergeo": [
           {
            "marker": {
             "colorbar": {
              "outlinewidth": 0,
              "ticks": ""
             }
            },
            "type": "scattergeo"
           }
          ],
          "scattergl": [
           {
            "marker": {
             "colorbar": {
              "outlinewidth": 0,
              "ticks": ""
             }
            },
            "type": "scattergl"
           }
          ],
          "scattermap": [
           {
            "marker": {
             "colorbar": {
              "outlinewidth": 0,
              "ticks": ""
             }
            },
            "type": "scattermap"
           }
          ],
          "scattermapbox": [
           {
            "marker": {
             "colorbar": {
              "outlinewidth": 0,
              "ticks": ""
             }
            },
            "type": "scattermapbox"
           }
          ],
          "scatterpolar": [
           {
            "marker": {
             "colorbar": {
              "outlinewidth": 0,
              "ticks": ""
             }
            },
            "type": "scatterpolar"
           }
          ],
          "scatterpolargl": [
           {
            "marker": {
             "colorbar": {
              "outlinewidth": 0,
              "ticks": ""
             }
            },
            "type": "scatterpolargl"
           }
          ],
          "scatterternary": [
           {
            "marker": {
             "colorbar": {
              "outlinewidth": 0,
              "ticks": ""
             }
            },
            "type": "scatterternary"
           }
          ],
          "surface": [
           {
            "colorbar": {
             "outlinewidth": 0,
             "ticks": ""
            },
            "colorscale": [
             [
              0,
              "#0d0887"
             ],
             [
              0.1111111111111111,
              "#46039f"
             ],
             [
              0.2222222222222222,
              "#7201a8"
             ],
             [
              0.3333333333333333,
              "#9c179e"
             ],
             [
              0.4444444444444444,
              "#bd3786"
             ],
             [
              0.5555555555555556,
              "#d8576b"
             ],
             [
              0.6666666666666666,
              "#ed7953"
             ],
             [
              0.7777777777777778,
              "#fb9f3a"
             ],
             [
              0.8888888888888888,
              "#fdca26"
             ],
             [
              1,
              "#f0f921"
             ]
            ],
            "type": "surface"
           }
          ],
          "table": [
           {
            "cells": {
             "fill": {
              "color": "#EBF0F8"
             },
             "line": {
              "color": "white"
             }
            },
            "header": {
             "fill": {
              "color": "#C8D4E3"
             },
             "line": {
              "color": "white"
             }
            },
            "type": "table"
           }
          ]
         },
         "layout": {
          "annotationdefaults": {
           "arrowcolor": "#2a3f5f",
           "arrowhead": 0,
           "arrowwidth": 1
          },
          "autotypenumbers": "strict",
          "coloraxis": {
           "colorbar": {
            "outlinewidth": 0,
            "ticks": ""
           }
          },
          "colorscale": {
           "diverging": [
            [
             0,
             "#8e0152"
            ],
            [
             0.1,
             "#c51b7d"
            ],
            [
             0.2,
             "#de77ae"
            ],
            [
             0.3,
             "#f1b6da"
            ],
            [
             0.4,
             "#fde0ef"
            ],
            [
             0.5,
             "#f7f7f7"
            ],
            [
             0.6,
             "#e6f5d0"
            ],
            [
             0.7,
             "#b8e186"
            ],
            [
             0.8,
             "#7fbc41"
            ],
            [
             0.9,
             "#4d9221"
            ],
            [
             1,
             "#276419"
            ]
           ],
           "sequential": [
            [
             0,
             "#0d0887"
            ],
            [
             0.1111111111111111,
             "#46039f"
            ],
            [
             0.2222222222222222,
             "#7201a8"
            ],
            [
             0.3333333333333333,
             "#9c179e"
            ],
            [
             0.4444444444444444,
             "#bd3786"
            ],
            [
             0.5555555555555556,
             "#d8576b"
            ],
            [
             0.6666666666666666,
             "#ed7953"
            ],
            [
             0.7777777777777778,
             "#fb9f3a"
            ],
            [
             0.8888888888888888,
             "#fdca26"
            ],
            [
             1,
             "#f0f921"
            ]
           ],
           "sequentialminus": [
            [
             0,
             "#0d0887"
            ],
            [
             0.1111111111111111,
             "#46039f"
            ],
            [
             0.2222222222222222,
             "#7201a8"
            ],
            [
             0.3333333333333333,
             "#9c179e"
            ],
            [
             0.4444444444444444,
             "#bd3786"
            ],
            [
             0.5555555555555556,
             "#d8576b"
            ],
            [
             0.6666666666666666,
             "#ed7953"
            ],
            [
             0.7777777777777778,
             "#fb9f3a"
            ],
            [
             0.8888888888888888,
             "#fdca26"
            ],
            [
             1,
             "#f0f921"
            ]
           ]
          },
          "colorway": [
           "#636efa",
           "#EF553B",
           "#00cc96",
           "#ab63fa",
           "#FFA15A",
           "#19d3f3",
           "#FF6692",
           "#B6E880",
           "#FF97FF",
           "#FECB52"
          ],
          "font": {
           "color": "#2a3f5f"
          },
          "geo": {
           "bgcolor": "white",
           "lakecolor": "white",
           "landcolor": "#E5ECF6",
           "showlakes": true,
           "showland": true,
           "subunitcolor": "white"
          },
          "hoverlabel": {
           "align": "left"
          },
          "hovermode": "closest",
          "mapbox": {
           "style": "light"
          },
          "paper_bgcolor": "white",
          "plot_bgcolor": "#E5ECF6",
          "polar": {
           "angularaxis": {
            "gridcolor": "white",
            "linecolor": "white",
            "ticks": ""
           },
           "bgcolor": "#E5ECF6",
           "radialaxis": {
            "gridcolor": "white",
            "linecolor": "white",
            "ticks": ""
           }
          },
          "scene": {
           "xaxis": {
            "backgroundcolor": "#E5ECF6",
            "gridcolor": "white",
            "gridwidth": 2,
            "linecolor": "white",
            "showbackground": true,
            "ticks": "",
            "zerolinecolor": "white"
           },
           "yaxis": {
            "backgroundcolor": "#E5ECF6",
            "gridcolor": "white",
            "gridwidth": 2,
            "linecolor": "white",
            "showbackground": true,
            "ticks": "",
            "zerolinecolor": "white"
           },
           "zaxis": {
            "backgroundcolor": "#E5ECF6",
            "gridcolor": "white",
            "gridwidth": 2,
            "linecolor": "white",
            "showbackground": true,
            "ticks": "",
            "zerolinecolor": "white"
           }
          },
          "shapedefaults": {
           "line": {
            "color": "#2a3f5f"
           }
          },
          "ternary": {
           "aaxis": {
            "gridcolor": "white",
            "linecolor": "white",
            "ticks": ""
           },
           "baxis": {
            "gridcolor": "white",
            "linecolor": "white",
            "ticks": ""
           },
           "bgcolor": "#E5ECF6",
           "caxis": {
            "gridcolor": "white",
            "linecolor": "white",
            "ticks": ""
           }
          },
          "title": {
           "x": 0.05
          },
          "xaxis": {
           "automargin": true,
           "gridcolor": "white",
           "linecolor": "white",
           "ticks": "",
           "title": {
            "standoff": 15
           },
           "zerolinecolor": "white",
           "zerolinewidth": 2
          },
          "yaxis": {
           "automargin": true,
           "gridcolor": "white",
           "linecolor": "white",
           "ticks": "",
           "title": {
            "standoff": 15
           },
           "zerolinecolor": "white",
           "zerolinewidth": 2
          }
         }
        },
        "title": {
         "text": "Distribution of BERTScore F1 per Headline"
        },
        "xaxis": {
         "anchor": "y",
         "domain": [
          0,
          1
         ],
         "title": {
          "text": "BERTScore F1 (%)"
         }
        },
        "yaxis": {
         "anchor": "x",
         "domain": [
          0,
          1
         ],
         "title": {
          "text": "count"
         }
        }
       }
      }
     },
     "metadata": {},
     "output_type": "display_data"
    },
    {
     "data": {
      "application/vnd.plotly.v1+json": {
       "config": {
        "plotlyServerURL": "https://plot.ly"
       },
       "data": [
        {
         "customdata": [
          [
           "El PP desdeña la comisión independiente sobre Gaza: “No le compete ni a la ONU ni al presidente decidir lo que es o no es un genocidio”"
          ],
          [
           "El Gobierno carga contra el PP por su posición sobre Gaza: “No es ignorancia, es mala fe. Les va a perseguir toda la vida”"
          ],
          [
           "El Gobierno eleva el crecimiento económico de este año una décima, hasta el 2,7%"
          ],
          [
           "iPhone iOS 26: las cinco novedades estrella del nuevo sistema operativo de Apple"
          ],
          [
           "La Guía Gastro 2025: una selección de los restaurantes y comercios favoritos de los expertos de EL PAÍS"
          ],
          [
           "El Gobierno aprueba un decreto para anticipar la jubilación de los bomberos forestales hasta cinco años"
          ],
          [
           "Los sindicatos de funcionarios unen sus fuerzas para exigir al Gobierno una nueva subida salarial"
          ],
          [
           "La universidad se moviliza para que el Gobierno cambie el examen que habilita a los abogados: “Si aprueban todos, no cumple su función”"
          ],
          [
           "Cuando el ligue se cuela en Vinted: “Hemos normalizado que cualquier ‘app’ sirva para eso”"
          ],
          [
           "Real Madrid - Marsella: horario, canal de televisión y dónde ver online el partido de Champions hoy"
          ],
          [
           "Alineación del Real Madrid contra el Marsella en el partido de Champions hoy"
          ],
          [
           "Dónde ver online y en televisión al Athletic Club hoy de Champions y a qué hora juega el partido contra el Arsenal"
          ],
          [
           "Partidos de Champions hoy: horarios, donde ver en televisión, equipos y quién juega el 16 de septiembre"
          ],
          [
           "El Gobierno eleva una décima, hasta el 2,7%, su previsión de crecimiento económico para 2025"
          ],
          [
           "El Gobierno declara ahora la emergencia migratoria en Baleares"
          ],
          [
           "El Gobierno aprueba un decreto para que los bomberos forestales puedan jubilarse a los 60 años"
          ],
          [
           "El Gobierno pretende meter a 564 inmigrantes en un centro ilegal en Pozuelo de Alarcón"
          ],
          [
           "Devotos budistas se reúnen en la región camboyana de Kandal para celebrar la festividad de Pchum Ben"
          ],
          [
           "El Gobierno presiona a Israel y acusa al PP de “mala fe” al no condenar el “genocidio” en Gaza"
          ],
          [
           "El expresident Aragonès aparca la política para dirigir la cadena de hoteles de su familia"
          ],
          [
           "El Gobierno declara Baleares en emergencia migratoria tras la llegada masiva de pateras"
          ],
          [
           "El Govern replica a Junts que las políticas sobre Catalunya se deciden en el Parlament"
          ],
          [
           "El Gobierno notifica a las plataformas online la retirada de 1.531 pisos turísticos en Madrid"
          ],
          [
           "El Ayuntamiento de Pozuelo decreta “el cese definitivo” del centro de refugiados del Gobierno"
          ],
          [
           "La Vuelta, en el epicentro de la refriega política, por Editorial"
          ],
          [
           "El PP endurece la oposición a Illa: “Es la peor estafa política de los últimos 20 años”"
          ],
          [
           "El fiscal se opone a la libertad de Cerdán por utilizar “impertinentes consideraciones políticas”"
          ],
          [
           "El diputado de ERC Ruben Wagensberg deja el acta y abandona la primera línea política"
          ]
         ],
         "hovertemplate": "Max Cosine Similarity to OPUS Spanish Sentences=%{x}<br>BERTScore F1 (%)=%{y}<br>Headline=%{customdata[0]}<extra></extra>",
         "legendgroup": "",
         "marker": {
          "color": "#636efa",
          "symbol": "circle"
         },
         "mode": "markers",
         "name": "",
         "orientation": "v",
         "showlegend": false,
         "type": "scatter",
         "x": {
          "bdata": "AAAAQDX71T8AAADgfSbYPwAAAID5geA/AAAAAECf0T8AAACA2SrQPwAAACCB3ds/AAAAABMa4D8AAABA8pfcPwAAAMAPitA/AAAAgNK50z8AAADAQQ3QPwAAAMDMJNA/AAAAQKGQzD8AAAAAm7/fPwAAAGBCmOA/AAAAgOsS3T8AAACg3YfZPwAAACDmaNQ/AAAAQNuq2T8AAAAASdLTPwAAAIC/h90/AAAAQEBC3T8AAABgu4LTPwAAAID/+NM/AAAAoHGk3T8AAAAgrfXXPwAAAGDh2uA/AAAAQIb11z8=",
          "dtype": "f8"
         },
         "xaxis": "x",
         "y": {
          "bdata": "c52DQivvg0LgmIZCd0x+Qsqsg0Izw4BC84CUQqmsjUIgOHVCe6mEQmHwiUKlwoFCG3iBQkv8i0KSbY9CBUF/QjH4gELtMYBCIUiJQuRCh0JI53tCz5yIQoz3gEL5J4FC3L6HQlDRe0LoFYpC8mN7Qg==",
          "dtype": "f4"
         },
         "yaxis": "y"
        }
       ],
       "layout": {
        "legend": {
         "tracegroupgap": 0
        },
        "template": {
         "data": {
          "bar": [
           {
            "error_x": {
             "color": "#2a3f5f"
            },
            "error_y": {
             "color": "#2a3f5f"
            },
            "marker": {
             "line": {
              "color": "#E5ECF6",
              "width": 0.5
             },
             "pattern": {
              "fillmode": "overlay",
              "size": 10,
              "solidity": 0.2
             }
            },
            "type": "bar"
           }
          ],
          "barpolar": [
           {
            "marker": {
             "line": {
              "color": "#E5ECF6",
              "width": 0.5
             },
             "pattern": {
              "fillmode": "overlay",
              "size": 10,
              "solidity": 0.2
             }
            },
            "type": "barpolar"
           }
          ],
          "carpet": [
           {
            "aaxis": {
             "endlinecolor": "#2a3f5f",
             "gridcolor": "white",
             "linecolor": "white",
             "minorgridcolor": "white",
             "startlinecolor": "#2a3f5f"
            },
            "baxis": {
             "endlinecolor": "#2a3f5f",
             "gridcolor": "white",
             "linecolor": "white",
             "minorgridcolor": "white",
             "startlinecolor": "#2a3f5f"
            },
            "type": "carpet"
           }
          ],
          "choropleth": [
           {
            "colorbar": {
             "outlinewidth": 0,
             "ticks": ""
            },
            "type": "choropleth"
           }
          ],
          "contour": [
           {
            "colorbar": {
             "outlinewidth": 0,
             "ticks": ""
            },
            "colorscale": [
             [
              0,
              "#0d0887"
             ],
             [
              0.1111111111111111,
              "#46039f"
             ],
             [
              0.2222222222222222,
              "#7201a8"
             ],
             [
              0.3333333333333333,
              "#9c179e"
             ],
             [
              0.4444444444444444,
              "#bd3786"
             ],
             [
              0.5555555555555556,
              "#d8576b"
             ],
             [
              0.6666666666666666,
              "#ed7953"
             ],
             [
              0.7777777777777778,
              "#fb9f3a"
             ],
             [
              0.8888888888888888,
              "#fdca26"
             ],
             [
              1,
              "#f0f921"
             ]
            ],
            "type": "contour"
           }
          ],
          "contourcarpet": [
           {
            "colorbar": {
             "outlinewidth": 0,
             "ticks": ""
            },
            "type": "contourcarpet"
           }
          ],
          "heatmap": [
           {
            "colorbar": {
             "outlinewidth": 0,
             "ticks": ""
            },
            "colorscale": [
             [
              0,
              "#0d0887"
             ],
             [
              0.1111111111111111,
              "#46039f"
             ],
             [
              0.2222222222222222,
              "#7201a8"
             ],
             [
              0.3333333333333333,
              "#9c179e"
             ],
             [
              0.4444444444444444,
              "#bd3786"
             ],
             [
              0.5555555555555556,
              "#d8576b"
             ],
             [
              0.6666666666666666,
              "#ed7953"
             ],
             [
              0.7777777777777778,
              "#fb9f3a"
             ],
             [
              0.8888888888888888,
              "#fdca26"
             ],
             [
              1,
              "#f0f921"
             ]
            ],
            "type": "heatmap"
           }
          ],
          "histogram": [
           {
            "marker": {
             "pattern": {
              "fillmode": "overlay",
              "size": 10,
              "solidity": 0.2
             }
            },
            "type": "histogram"
           }
          ],
          "histogram2d": [
           {
            "colorbar": {
             "outlinewidth": 0,
             "ticks": ""
            },
            "colorscale": [
             [
              0,
              "#0d0887"
             ],
             [
              0.1111111111111111,
              "#46039f"
             ],
             [
              0.2222222222222222,
              "#7201a8"
             ],
             [
              0.3333333333333333,
              "#9c179e"
             ],
             [
              0.4444444444444444,
              "#bd3786"
             ],
             [
              0.5555555555555556,
              "#d8576b"
             ],
             [
              0.6666666666666666,
              "#ed7953"
             ],
             [
              0.7777777777777778,
              "#fb9f3a"
             ],
             [
              0.8888888888888888,
              "#fdca26"
             ],
             [
              1,
              "#f0f921"
             ]
            ],
            "type": "histogram2d"
           }
          ],
          "histogram2dcontour": [
           {
            "colorbar": {
             "outlinewidth": 0,
             "ticks": ""
            },
            "colorscale": [
             [
              0,
              "#0d0887"
             ],
             [
              0.1111111111111111,
              "#46039f"
             ],
             [
              0.2222222222222222,
              "#7201a8"
             ],
             [
              0.3333333333333333,
              "#9c179e"
             ],
             [
              0.4444444444444444,
              "#bd3786"
             ],
             [
              0.5555555555555556,
              "#d8576b"
             ],
             [
              0.6666666666666666,
              "#ed7953"
             ],
             [
              0.7777777777777778,
              "#fb9f3a"
             ],
             [
              0.8888888888888888,
              "#fdca26"
             ],
             [
              1,
              "#f0f921"
             ]
            ],
            "type": "histogram2dcontour"
           }
          ],
          "mesh3d": [
           {
            "colorbar": {
             "outlinewidth": 0,
             "ticks": ""
            },
            "type": "mesh3d"
           }
          ],
          "parcoords": [
           {
            "line": {
             "colorbar": {
              "outlinewidth": 0,
              "ticks": ""
             }
            },
            "type": "parcoords"
           }
          ],
          "pie": [
           {
            "automargin": true,
            "type": "pie"
           }
          ],
          "scatter": [
           {
            "fillpattern": {
             "fillmode": "overlay",
             "size": 10,
             "solidity": 0.2
            },
            "type": "scatter"
           }
          ],
          "scatter3d": [
           {
            "line": {
             "colorbar": {
              "outlinewidth": 0,
              "ticks": ""
             }
            },
            "marker": {
             "colorbar": {
              "outlinewidth": 0,
              "ticks": ""
             }
            },
            "type": "scatter3d"
           }
          ],
          "scattercarpet": [
           {
            "marker": {
             "colorbar": {
              "outlinewidth": 0,
              "ticks": ""
             }
            },
            "type": "scattercarpet"
           }
          ],
          "scattergeo": [
           {
            "marker": {
             "colorbar": {
              "outlinewidth": 0,
              "ticks": ""
             }
            },
            "type": "scattergeo"
           }
          ],
          "scattergl": [
           {
            "marker": {
             "colorbar": {
              "outlinewidth": 0,
              "ticks": ""
             }
            },
            "type": "scattergl"
           }
          ],
          "scattermap": [
           {
            "marker": {
             "colorbar": {
              "outlinewidth": 0,
              "ticks": ""
             }
            },
            "type": "scattermap"
           }
          ],
          "scattermapbox": [
           {
            "marker": {
             "colorbar": {
              "outlinewidth": 0,
              "ticks": ""
             }
            },
            "type": "scattermapbox"
           }
          ],
          "scatterpolar": [
           {
            "marker": {
             "colorbar": {
              "outlinewidth": 0,
              "ticks": ""
             }
            },
            "type": "scatterpolar"
           }
          ],
          "scatterpolargl": [
           {
            "marker": {
             "colorbar": {
              "outlinewidth": 0,
              "ticks": ""
             }
            },
            "type": "scatterpolargl"
           }
          ],
          "scatterternary": [
           {
            "marker": {
             "colorbar": {
              "outlinewidth": 0,
              "ticks": ""
             }
            },
            "type": "scatterternary"
           }
          ],
          "surface": [
           {
            "colorbar": {
             "outlinewidth": 0,
             "ticks": ""
            },
            "colorscale": [
             [
              0,
              "#0d0887"
             ],
             [
              0.1111111111111111,
              "#46039f"
             ],
             [
              0.2222222222222222,
              "#7201a8"
             ],
             [
              0.3333333333333333,
              "#9c179e"
             ],
             [
              0.4444444444444444,
              "#bd3786"
             ],
             [
              0.5555555555555556,
              "#d8576b"
             ],
             [
              0.6666666666666666,
              "#ed7953"
             ],
             [
              0.7777777777777778,
              "#fb9f3a"
             ],
             [
              0.8888888888888888,
              "#fdca26"
             ],
             [
              1,
              "#f0f921"
             ]
            ],
            "type": "surface"
           }
          ],
          "table": [
           {
            "cells": {
             "fill": {
              "color": "#EBF0F8"
             },
             "line": {
              "color": "white"
             }
            },
            "header": {
             "fill": {
              "color": "#C8D4E3"
             },
             "line": {
              "color": "white"
             }
            },
            "type": "table"
           }
          ]
         },
         "layout": {
          "annotationdefaults": {
           "arrowcolor": "#2a3f5f",
           "arrowhead": 0,
           "arrowwidth": 1
          },
          "autotypenumbers": "strict",
          "coloraxis": {
           "colorbar": {
            "outlinewidth": 0,
            "ticks": ""
           }
          },
          "colorscale": {
           "diverging": [
            [
             0,
             "#8e0152"
            ],
            [
             0.1,
             "#c51b7d"
            ],
            [
             0.2,
             "#de77ae"
            ],
            [
             0.3,
             "#f1b6da"
            ],
            [
             0.4,
             "#fde0ef"
            ],
            [
             0.5,
             "#f7f7f7"
            ],
            [
             0.6,
             "#e6f5d0"
            ],
            [
             0.7,
             "#b8e186"
            ],
            [
             0.8,
             "#7fbc41"
            ],
            [
             0.9,
             "#4d9221"
            ],
            [
             1,
             "#276419"
            ]
           ],
           "sequential": [
            [
             0,
             "#0d0887"
            ],
            [
             0.1111111111111111,
             "#46039f"
            ],
            [
             0.2222222222222222,
             "#7201a8"
            ],
            [
             0.3333333333333333,
             "#9c179e"
            ],
            [
             0.4444444444444444,
             "#bd3786"
            ],
            [
             0.5555555555555556,
             "#d8576b"
            ],
            [
             0.6666666666666666,
             "#ed7953"
            ],
            [
             0.7777777777777778,
             "#fb9f3a"
            ],
            [
             0.8888888888888888,
             "#fdca26"
            ],
            [
             1,
             "#f0f921"
            ]
           ],
           "sequentialminus": [
            [
             0,
             "#0d0887"
            ],
            [
             0.1111111111111111,
             "#46039f"
            ],
            [
             0.2222222222222222,
             "#7201a8"
            ],
            [
             0.3333333333333333,
             "#9c179e"
            ],
            [
             0.4444444444444444,
             "#bd3786"
            ],
            [
             0.5555555555555556,
             "#d8576b"
            ],
            [
             0.6666666666666666,
             "#ed7953"
            ],
            [
             0.7777777777777778,
             "#fb9f3a"
            ],
            [
             0.8888888888888888,
             "#fdca26"
            ],
            [
             1,
             "#f0f921"
            ]
           ]
          },
          "colorway": [
           "#636efa",
           "#EF553B",
           "#00cc96",
           "#ab63fa",
           "#FFA15A",
           "#19d3f3",
           "#FF6692",
           "#B6E880",
           "#FF97FF",
           "#FECB52"
          ],
          "font": {
           "color": "#2a3f5f"
          },
          "geo": {
           "bgcolor": "white",
           "lakecolor": "white",
           "landcolor": "#E5ECF6",
           "showlakes": true,
           "showland": true,
           "subunitcolor": "white"
          },
          "hoverlabel": {
           "align": "left"
          },
          "hovermode": "closest",
          "mapbox": {
           "style": "light"
          },
          "paper_bgcolor": "white",
          "plot_bgcolor": "#E5ECF6",
          "polar": {
           "angularaxis": {
            "gridcolor": "white",
            "linecolor": "white",
            "ticks": ""
           },
           "bgcolor": "#E5ECF6",
           "radialaxis": {
            "gridcolor": "white",
            "linecolor": "white",
            "ticks": ""
           }
          },
          "scene": {
           "xaxis": {
            "backgroundcolor": "#E5ECF6",
            "gridcolor": "white",
            "gridwidth": 2,
            "linecolor": "white",
            "showbackground": true,
            "ticks": "",
            "zerolinecolor": "white"
           },
           "yaxis": {
            "backgroundcolor": "#E5ECF6",
            "gridcolor": "white",
            "gridwidth": 2,
            "linecolor": "white",
            "showbackground": true,
            "ticks": "",
            "zerolinecolor": "white"
           },
           "zaxis": {
            "backgroundcolor": "#E5ECF6",
            "gridcolor": "white",
            "gridwidth": 2,
            "linecolor": "white",
            "showbackground": true,
            "ticks": "",
            "zerolinecolor": "white"
           }
          },
          "shapedefaults": {
           "line": {
            "color": "#2a3f5f"
           }
          },
          "ternary": {
           "aaxis": {
            "gridcolor": "white",
            "linecolor": "white",
            "ticks": ""
           },
           "baxis": {
            "gridcolor": "white",
            "linecolor": "white",
            "ticks": ""
           },
           "bgcolor": "#E5ECF6",
           "caxis": {
            "gridcolor": "white",
            "linecolor": "white",
            "ticks": ""
           }
          },
          "title": {
           "x": 0.05
          },
          "xaxis": {
           "automargin": true,
           "gridcolor": "white",
           "linecolor": "white",
           "ticks": "",
           "title": {
            "standoff": 15
           },
           "zerolinecolor": "white",
           "zerolinewidth": 2
          },
          "yaxis": {
           "automargin": true,
           "gridcolor": "white",
           "linecolor": "white",
           "ticks": "",
           "title": {
            "standoff": 15
           },
           "zerolinecolor": "white",
           "zerolinewidth": 2
          }
         }
        },
        "title": {
         "text": "Semantic Similarity vs BERTScore F1 per Headline"
        },
        "xaxis": {
         "anchor": "y",
         "domain": [
          0,
          1
         ],
         "title": {
          "text": "Max Cosine Similarity to OPUS Spanish Sentences"
         }
        },
        "yaxis": {
         "anchor": "x",
         "domain": [
          0,
          1
         ],
         "title": {
          "text": "BERTScore F1 (%)"
         }
        }
       }
      }
     },
     "metadata": {},
     "output_type": "display_data"
    }
   ],
   "source": [
    "import plotly.graph_objects as go\n",
    "import plotly.express as px\n",
    "import pandas as pd\n",
    "import numpy as np\n",
    "from sentence_transformers import util\n",
    "\n",
    "# --- Step 0: Corpus-level metrics ---\n",
    "df_metrics = pd.DataFrame({\n",
    "    \"Metric\": [\"BLEU\", \"chrF\", \"BERTScore_F1\"],\n",
    "    \"Score\": [bleu.score, chrf.score, F1.mean().item() * 100]  # scale BERTScore F1 to %\n",
    "})\n",
    "\n",
    "# --- Step 1: Bar chart for corpus-level metrics ---\n",
    "fig_bar = px.bar(\n",
    "    df_metrics, x=\"Metric\", y=\"Score\",\n",
    "    text=\"Score\",\n",
    "    color=\"Metric\",\n",
    "    title=\"Corpus-level MT Evaluation Metrics\",\n",
    "    range_y=[0,100],\n",
    "    color_discrete_sequence=px.colors.sequential.Viridis\n",
    ")\n",
    "fig_bar.update_traces(texttemplate='%{text:.2f}', textposition='outside')\n",
    "fig_bar.show()\n",
    "\n",
    "# --- Step 2: Histogram of BERTScore F1 per headline ---\n",
    "bert_f1_pct = F1.detach().cpu().numpy() * 100\n",
    "fig_hist = px.histogram(\n",
    "    x=bert_f1_pct,\n",
    "    nbins=10,\n",
    "    title=\"Distribution of BERTScore F1 per Headline\",\n",
    "    labels={\"x\":\"BERTScore F1 (%)\", \"y\":\"Number of Headlines\"},\n",
    "    color_discrete_sequence=[\"skyblue\"]\n",
    ")\n",
    "fig_hist.update_layout(bargap=0.2)\n",
    "fig_hist.show()\n",
    "\n",
    "# --- Step 3: Scatter plot: max cosine similarity vs BERTScore F1 per headline ---\n",
    "headline_embs_cpu = headline_embs.detach().cpu()\n",
    "opus_embs_cpu = opus_embs.detach().cpu()\n",
    "cos_scores = [util.cos_sim(h, opus_embs_cpu).max().item() for h in headline_embs_cpu]\n",
    "\n",
    "fig_scatter = px.scatter(\n",
    "    x=cos_scores,\n",
    "    y=bert_f1_pct,\n",
    "    labels={\"x\":\"Max Cosine Similarity to OPUS Spanish Sentences\", \"y\":\"BERTScore F1 (%)\"},\n",
    "    title=\"Semantic Similarity vs BERTScore F1 per Headline\",\n",
    "    hover_data={\"Headline\": df[\"headline\"].tolist()}\n",
    ")\n",
    "fig_scatter.show()\n"
   ]
  }
 ],
 "metadata": {
  "kernelspec": {
   "display_name": ".venv (3.12.9)",
   "language": "python",
   "name": "python3"
  },
  "language_info": {
   "codemirror_mode": {
    "name": "ipython",
    "version": 3
   },
   "file_extension": ".py",
   "mimetype": "text/x-python",
   "name": "python",
   "nbconvert_exporter": "python",
   "pygments_lexer": "ipython3",
   "version": "3.12.9"
  }
 },
 "nbformat": 4,
 "nbformat_minor": 5
}
